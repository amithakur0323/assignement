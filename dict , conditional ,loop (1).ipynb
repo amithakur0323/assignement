{
 "cells": [
  {
   "cell_type": "code",
   "execution_count": 1,
   "id": "2b04e5b3-2655-470b-b752-5504d3411cfd",
   "metadata": {},
   "outputs": [],
   "source": [
    "d={}"
   ]
  },
  {
   "cell_type": "code",
   "execution_count": 2,
   "id": "bad3f070-31d4-431f-9db1-00decf2cf8ae",
   "metadata": {},
   "outputs": [
    {
     "data": {
      "text/plain": [
       "dict"
      ]
     },
     "execution_count": 2,
     "metadata": {},
     "output_type": "execute_result"
    }
   ],
   "source": [
    "type(d)"
   ]
  },
  {
   "cell_type": "code",
   "execution_count": 3,
   "id": "f4785b5e-171d-48e2-97e9-c01854345d00",
   "metadata": {},
   "outputs": [],
   "source": [
    "d1={'key':\"amit\"}"
   ]
  },
  {
   "cell_type": "code",
   "execution_count": 4,
   "id": "d29aaca9-b3e7-4a24-b162-f7c63a92932f",
   "metadata": {},
   "outputs": [
    {
     "data": {
      "text/plain": [
       "{'key': 'amit'}"
      ]
     },
     "execution_count": 4,
     "metadata": {},
     "output_type": "execute_result"
    }
   ],
   "source": [
    "d1"
   ]
  },
  {
   "cell_type": "code",
   "execution_count": 5,
   "id": "d6536054-68b2-49a0-aab4-b4ba77a03a2e",
   "metadata": {},
   "outputs": [],
   "source": [
    "d2={'name':\"anjali\",'email':\"anj@gmail.com\",'number':827954218}"
   ]
  },
  {
   "cell_type": "code",
   "execution_count": 6,
   "id": "bca947a3-8c8e-4a3a-a01c-83523c1560f2",
   "metadata": {},
   "outputs": [
    {
     "data": {
      "text/plain": [
       "{'name': 'anjali', 'email': 'anj@gmail.com', 'number': 827954218}"
      ]
     },
     "execution_count": 6,
     "metadata": {},
     "output_type": "execute_result"
    }
   ],
   "source": [
    "d2"
   ]
  },
  {
   "cell_type": "code",
   "execution_count": 7,
   "id": "7969eec1-dab9-4c51-a300-5cb1d421f275",
   "metadata": {},
   "outputs": [],
   "source": [
    "d3={4321:\"anjali\",'@kunu':\"golu\",True:369875}"
   ]
  },
  {
   "cell_type": "code",
   "execution_count": 8,
   "id": "5c932847-9941-4d7d-b512-a3a8ee375dfc",
   "metadata": {},
   "outputs": [
    {
     "data": {
      "text/plain": [
       "{4321: 'anjali', '@kunu': 'golu', True: 369875}"
      ]
     },
     "execution_count": 8,
     "metadata": {},
     "output_type": "execute_result"
    }
   ],
   "source": [
    "d3"
   ]
  },
  {
   "cell_type": "code",
   "execution_count": 9,
   "id": "d9441144-aa03-4bac-963e-fb9710b65ac3",
   "metadata": {},
   "outputs": [
    {
     "data": {
      "text/plain": [
       "'anjali'"
      ]
     },
     "execution_count": 9,
     "metadata": {},
     "output_type": "execute_result"
    }
   ],
   "source": [
    "d3[4321]"
   ]
  },
  {
   "cell_type": "code",
   "execution_count": 10,
   "id": "ab7ff021-2001-4518-ae9a-279a765a840a",
   "metadata": {},
   "outputs": [
    {
     "data": {
      "text/plain": [
       "'golu'"
      ]
     },
     "execution_count": 10,
     "metadata": {},
     "output_type": "execute_result"
    }
   ],
   "source": [
    "d3['@kunu']"
   ]
  },
  {
   "cell_type": "code",
   "execution_count": 11,
   "id": "09f8854c-4456-4866-84b3-31570308137d",
   "metadata": {},
   "outputs": [
    {
     "data": {
      "text/plain": [
       "369875"
      ]
     },
     "execution_count": 11,
     "metadata": {},
     "output_type": "execute_result"
    }
   ],
   "source": [
    "d3[1]"
   ]
  },
  {
   "cell_type": "code",
   "execution_count": 1,
   "id": "edcea9d2-a9e2-4129-8062-3b8dd2671292",
   "metadata": {},
   "outputs": [
    {
     "ename": "NameError",
     "evalue": "name 'd3' is not defined",
     "output_type": "error",
     "traceback": [
      "\u001b[0;31m---------------------------------------------------------------------------\u001b[0m",
      "\u001b[0;31mNameError\u001b[0m                                 Traceback (most recent call last)",
      "Cell \u001b[0;32mIn [1], line 1\u001b[0m\n\u001b[0;32m----> 1\u001b[0m \u001b[43md3\u001b[49m[\u001b[38;5;28;01mTrue\u001b[39;00m]\n",
      "\u001b[0;31mNameError\u001b[0m: name 'd3' is not defined"
     ]
    }
   ],
   "source": [
    "d3[True]"
   ]
  },
  {
   "cell_type": "code",
   "execution_count": null,
   "id": "22a87877-f7fc-48e5-861f-d2d213ad9ae5",
   "metadata": {},
   "outputs": [],
   "source": [
    "d4={'name':\"amit\",'mail_id':\"akt@gmail.com\",\"name\":\"amitkumar\"}"
   ]
  },
  {
   "cell_type": "code",
   "execution_count": 2,
   "id": "e9c94d73-e2ee-481f-9787-8888573c70d0",
   "metadata": {},
   "outputs": [
    {
     "ename": "NameError",
     "evalue": "name 'd4' is not defined",
     "output_type": "error",
     "traceback": [
      "\u001b[0;31m---------------------------------------------------------------------------\u001b[0m",
      "\u001b[0;31mNameError\u001b[0m                                 Traceback (most recent call last)",
      "Cell \u001b[0;32mIn [2], line 1\u001b[0m\n\u001b[0;32m----> 1\u001b[0m \u001b[43md4\u001b[49m\n",
      "\u001b[0;31mNameError\u001b[0m: name 'd4' is not defined"
     ]
    }
   ],
   "source": [
    "d4"
   ]
  },
  {
   "cell_type": "code",
   "execution_count": 3,
   "id": "dab3f27d-aabe-4e86-a2c6-f48a48aba690",
   "metadata": {},
   "outputs": [
    {
     "ename": "NameError",
     "evalue": "name 'd4' is not defined",
     "output_type": "error",
     "traceback": [
      "\u001b[0;31m---------------------------------------------------------------------------\u001b[0m",
      "\u001b[0;31mNameError\u001b[0m                                 Traceback (most recent call last)",
      "Cell \u001b[0;32mIn [3], line 1\u001b[0m\n\u001b[0;32m----> 1\u001b[0m \u001b[43md4\u001b[49m[\u001b[38;5;124m\"\u001b[39m\u001b[38;5;124mname\u001b[39m\u001b[38;5;124m\"\u001b[39m]\n",
      "\u001b[0;31mNameError\u001b[0m: name 'd4' is not defined"
     ]
    }
   ],
   "source": [
    "d4[\"name\"]"
   ]
  },
  {
   "cell_type": "code",
   "execution_count": 4,
   "id": "1330b6ae-2905-46cd-a457-aa24d451bb5b",
   "metadata": {},
   "outputs": [],
   "source": [
    "d5={'company':\"accounting\",'work':[\"tax solutions\",\"inventery\",\"advisery\"]}"
   ]
  },
  {
   "cell_type": "code",
   "execution_count": 5,
   "id": "9baf7b69-2807-4551-b364-5a55a27ec1a6",
   "metadata": {},
   "outputs": [
    {
     "data": {
      "text/plain": [
       "{'company': 'accounting', 'work': ['tax solutions', 'inventery', 'advisery']}"
      ]
     },
     "execution_count": 5,
     "metadata": {},
     "output_type": "execute_result"
    }
   ],
   "source": [
    "d5"
   ]
  },
  {
   "cell_type": "code",
   "execution_count": 6,
   "id": "a5902d3a-88b4-4fa5-8de5-d1bf302f09a5",
   "metadata": {},
   "outputs": [
    {
     "data": {
      "text/plain": [
       "['tax solutions', 'inventery', 'advisery']"
      ]
     },
     "execution_count": 6,
     "metadata": {},
     "output_type": "execute_result"
    }
   ],
   "source": [
    "d5['work']"
   ]
  },
  {
   "cell_type": "code",
   "execution_count": 7,
   "id": "c3d0d78e-ddb3-4191-bfa5-234942d2d33b",
   "metadata": {},
   "outputs": [
    {
     "data": {
      "text/plain": [
       "'inventery'"
      ]
     },
     "execution_count": 7,
     "metadata": {},
     "output_type": "execute_result"
    }
   ],
   "source": [
    "d5['work'][1]"
   ]
  },
  {
   "cell_type": "code",
   "execution_count": 8,
   "id": "8096a3df-5f5a-4ac4-b76d-a595e0a95683",
   "metadata": {},
   "outputs": [
    {
     "data": {
      "text/plain": [
       "'inventery'"
      ]
     },
     "execution_count": 8,
     "metadata": {},
     "output_type": "execute_result"
    }
   ],
   "source": [
    "d5['work'][-2]"
   ]
  },
  {
   "cell_type": "code",
   "execution_count": 9,
   "id": "c293d526-b2e8-4e8a-943e-ae8c7f505398",
   "metadata": {},
   "outputs": [],
   "source": [
    "d6={'number':[2,8,7,44,33,44,9,10,],'assigeme':(6,7,8,9,10,11,),'start_date':{19,2,23},'job_timing':{\"gsnesh electronic\":10,\"purnima talkies\":1,\"vinayak hardware\":5}}"
   ]
  },
  {
   "cell_type": "code",
   "execution_count": 10,
   "id": "9fe82edd-41d6-4e55-adab-adfc03ca8fd9",
   "metadata": {},
   "outputs": [
    {
     "data": {
      "text/plain": [
       "{'number': [2, 8, 7, 44, 33, 44, 9, 10],\n",
       " 'assigeme': (6, 7, 8, 9, 10, 11),\n",
       " 'start_date': {2, 19, 23},\n",
       " 'job_timing': {'gsnesh electronic': 10,\n",
       "  'purnima talkies': 1,\n",
       "  'vinayak hardware': 5}}"
      ]
     },
     "execution_count": 10,
     "metadata": {},
     "output_type": "execute_result"
    }
   ],
   "source": [
    "d6"
   ]
  },
  {
   "cell_type": "code",
   "execution_count": 11,
   "id": "cc4cf5d9-9ea0-4a03-99d0-229a0853eb42",
   "metadata": {},
   "outputs": [
    {
     "data": {
      "text/plain": [
       "1"
      ]
     },
     "execution_count": 11,
     "metadata": {},
     "output_type": "execute_result"
    }
   ],
   "source": [
    "d6['job_timing']['purnima talkies']"
   ]
  },
  {
   "cell_type": "code",
   "execution_count": 12,
   "id": "5e258680-0a52-49ec-92d4-8ef2a13be972",
   "metadata": {},
   "outputs": [
    {
     "data": {
      "text/plain": [
       "{'number': [2, 8, 7, 44, 33, 44, 9, 10],\n",
       " 'assigeme': (6, 7, 8, 9, 10, 11),\n",
       " 'start_date': {2, 19, 23},\n",
       " 'job_timing': {'gsnesh electronic': 10,\n",
       "  'purnima talkies': 1,\n",
       "  'vinayak hardware': 5}}"
      ]
     },
     "execution_count": 12,
     "metadata": {},
     "output_type": "execute_result"
    }
   ],
   "source": [
    "d6"
   ]
  },
  {
   "cell_type": "code",
   "execution_count": 13,
   "id": "2e665e2c-98a3-470c-9d3e-a59927ff18c8",
   "metadata": {},
   "outputs": [],
   "source": [
    "d6['mentro']=[\"pawan\",\"pankaj\", \"ranjit\", \"raunak\"]"
   ]
  },
  {
   "cell_type": "code",
   "execution_count": 14,
   "id": "454edf02-b563-435b-9d3e-3341d6217eea",
   "metadata": {},
   "outputs": [
    {
     "data": {
      "text/plain": [
       "{'number': [2, 8, 7, 44, 33, 44, 9, 10],\n",
       " 'assigeme': (6, 7, 8, 9, 10, 11),\n",
       " 'start_date': {2, 19, 23},\n",
       " 'job_timing': {'gsnesh electronic': 10,\n",
       "  'purnima talkies': 1,\n",
       "  'vinayak hardware': 5},\n",
       " 'mentro': ['pawan', 'pankaj', 'ranjit', 'raunak']}"
      ]
     },
     "execution_count": 14,
     "metadata": {},
     "output_type": "execute_result"
    }
   ],
   "source": [
    "d6"
   ]
  },
  {
   "cell_type": "code",
   "execution_count": 15,
   "id": "4ab150dd-3b77-4a0e-b8d7-c4b89e84aa4a",
   "metadata": {},
   "outputs": [],
   "source": [
    "del d6['number']"
   ]
  },
  {
   "cell_type": "code",
   "execution_count": 16,
   "id": "abcf6467-c763-4079-9943-e506446477b3",
   "metadata": {},
   "outputs": [
    {
     "data": {
      "text/plain": [
       "{'assigeme': (6, 7, 8, 9, 10, 11),\n",
       " 'start_date': {2, 19, 23},\n",
       " 'job_timing': {'gsnesh electronic': 10,\n",
       "  'purnima talkies': 1,\n",
       "  'vinayak hardware': 5},\n",
       " 'mentro': ['pawan', 'pankaj', 'ranjit', 'raunak']}"
      ]
     },
     "execution_count": 16,
     "metadata": {},
     "output_type": "execute_result"
    }
   ],
   "source": [
    "d6"
   ]
  },
  {
   "cell_type": "code",
   "execution_count": 17,
   "id": "21e6f44c-f449-4e7f-b97a-2dc040840e6c",
   "metadata": {},
   "outputs": [
    {
     "data": {
      "text/plain": [
       "['assigeme', 'start_date', 'job_timing', 'mentro']"
      ]
     },
     "execution_count": 17,
     "metadata": {},
     "output_type": "execute_result"
    }
   ],
   "source": [
    "list(d6.keys())"
   ]
  },
  {
   "cell_type": "code",
   "execution_count": 18,
   "id": "c0187db9-9480-4fbe-9fb6-14e736c9fc65",
   "metadata": {},
   "outputs": [
    {
     "data": {
      "text/plain": [
       "[(6, 7, 8, 9, 10, 11),\n",
       " {2, 19, 23},\n",
       " {'gsnesh electronic': 10, 'purnima talkies': 1, 'vinayak hardware': 5},\n",
       " ['pawan', 'pankaj', 'ranjit', 'raunak']]"
      ]
     },
     "execution_count": 18,
     "metadata": {},
     "output_type": "execute_result"
    }
   ],
   "source": [
    "list(d6.values())"
   ]
  },
  {
   "cell_type": "code",
   "execution_count": 19,
   "id": "5bbb0003-ae7d-4c57-bdb8-3c58d94ee053",
   "metadata": {},
   "outputs": [
    {
     "data": {
      "text/plain": [
       "[('assigeme', (6, 7, 8, 9, 10, 11)),\n",
       " ('start_date', {2, 19, 23}),\n",
       " ('job_timing',\n",
       "  {'gsnesh electronic': 10, 'purnima talkies': 1, 'vinayak hardware': 5}),\n",
       " ('mentro', ['pawan', 'pankaj', 'ranjit', 'raunak'])]"
      ]
     },
     "execution_count": 19,
     "metadata": {},
     "output_type": "execute_result"
    }
   ],
   "source": [
    "list(d6.items())"
   ]
  },
  {
   "cell_type": "code",
   "execution_count": 20,
   "id": "dc11f228-2088-4df9-938e-7c111d9e6863",
   "metadata": {},
   "outputs": [
    {
     "data": {
      "text/plain": [
       "(6, 7, 8, 9, 10, 11)"
      ]
     },
     "execution_count": 20,
     "metadata": {},
     "output_type": "execute_result"
    }
   ],
   "source": [
    "d6.pop('assigeme')"
   ]
  },
  {
   "cell_type": "code",
   "execution_count": 21,
   "id": "414c0166-ccf2-464d-a6ac-6a0196bfb8cb",
   "metadata": {},
   "outputs": [
    {
     "data": {
      "text/plain": [
       "{'start_date': {2, 19, 23},\n",
       " 'job_timing': {'gsnesh electronic': 10,\n",
       "  'purnima talkies': 1,\n",
       "  'vinayak hardware': 5},\n",
       " 'mentro': ['pawan', 'pankaj', 'ranjit', 'raunak']}"
      ]
     },
     "execution_count": 21,
     "metadata": {},
     "output_type": "execute_result"
    }
   ],
   "source": [
    "d6"
   ]
  },
  {
   "cell_type": "code",
   "execution_count": 22,
   "id": "14f11fb1-abe9-4696-a5f5-bf256abff50a",
   "metadata": {},
   "outputs": [
    {
     "ename": "TypeError",
     "evalue": "pop expected at least 1 argument, got 0",
     "output_type": "error",
     "traceback": [
      "\u001b[0;31m---------------------------------------------------------------------------\u001b[0m",
      "\u001b[0;31mTypeError\u001b[0m                                 Traceback (most recent call last)",
      "Cell \u001b[0;32mIn [22], line 1\u001b[0m\n\u001b[0;32m----> 1\u001b[0m \u001b[43md6\u001b[49m\u001b[38;5;241;43m.\u001b[39;49m\u001b[43mpop\u001b[49m\u001b[43m(\u001b[49m\u001b[43m)\u001b[49m\n",
      "\u001b[0;31mTypeError\u001b[0m: pop expected at least 1 argument, got 0"
     ]
    }
   ],
   "source": [
    "d6.pop()"
   ]
  },
  {
   "cell_type": "code",
   "execution_count": 24,
   "id": "6c2a2573-93ed-496c-82e2-52fba014409b",
   "metadata": {},
   "outputs": [
    {
     "name": "stdin",
     "output_type": "stream",
     "text": [
      "enter your marks 60\n"
     ]
    },
    {
     "name": "stdout",
     "output_type": "stream",
     "text": [
      "you will be a part of A1 batch\n"
     ]
    }
   ],
   "source": [
    "marks=int(input(\"enter your marks\"))\n",
    "if marks>=80:\n",
    "    print(\"you will be a part of A0 batch\")\n",
    "elif marks>=60 and marks<80:\n",
    "    print(\"you will be a part of A1 batch\")\n",
    "elif marks>=40 and marks<60:\n",
    "    print(\"you will be a part of A2 batch\")\n",
    "else:\n",
    "    print(\"you will be a part of A3 batch\")"
   ]
  },
  {
   "cell_type": "markdown",
   "id": "824914d5-f73a-4de3-965b-780dc8ab7b06",
   "metadata": {},
   "source": [
    "10>=80"
   ]
  },
  {
   "cell_type": "code",
   "execution_count": null,
   "id": "312088de-61cf-43e3-a6f8-33069b8ca724",
   "metadata": {},
   "outputs": [],
   "source": [
    "marks=int(input(\"enter your marks\"))"
   ]
  },
  {
   "cell_type": "code",
   "execution_count": 43,
   "id": "7f6d800c-7c46-437f-82e4-7e6fa052787e",
   "metadata": {},
   "outputs": [
    {
     "data": {
      "text/plain": [
       "45"
      ]
     },
     "execution_count": 43,
     "metadata": {},
     "output_type": "execute_result"
    }
   ],
   "source": [
    "marks"
   ]
  },
  {
   "cell_type": "code",
   "execution_count": 52,
   "id": "3a9afbfa-33cf-492b-a72c-f0a53e5abdce",
   "metadata": {},
   "outputs": [
    {
     "data": {
      "text/plain": [
       "int"
      ]
     },
     "execution_count": 52,
     "metadata": {},
     "output_type": "execute_result"
    }
   ],
   "source": [
    "type(marks)"
   ]
  },
  {
   "cell_type": "code",
   "execution_count": 56,
   "id": "1a15781f-3339-423c-9896-c74619866e7b",
   "metadata": {},
   "outputs": [
    {
     "name": "stdin",
     "output_type": "stream",
     "text": [
      "enter price 1050\n"
     ]
    },
    {
     "name": "stdout",
     "output_type": "stream",
     "text": [
      "i will not purchase\n"
     ]
    }
   ],
   "source": [
    "price=int(input(\"enter price\"))\n",
    "if price>1000:\n",
    "    print(\"i will not purchase\")\n",
    "else:\n",
    "    print(\"i will purchase\")"
   ]
  },
  {
   "cell_type": "code",
   "execution_count": 75,
   "id": "92ef79a1-f15a-4994-a3b5-bdc0f9d402f5",
   "metadata": {},
   "outputs": [
    {
     "name": "stdin",
     "output_type": "stream",
     "text": [
      "enter price 1000\n"
     ]
    },
    {
     "name": "stdout",
     "output_type": "stream",
     "text": [
      "not intrested\n"
     ]
    }
   ],
   "source": [
    "price=int(input(\"enter price\"))\n",
    "if price>1000:\n",
    "    print(\"i will not purchase\")\n",
    "    if price>4000:\n",
    "        print(\"this is to much\")\n",
    "    elif price<2000:\n",
    "        print(\"its ok\")\n",
    "elif price<1000:\n",
    "    print(\"i will purchase\")\n",
    "else:\n",
    "    print(\"not intrested\")"
   ]
  },
  {
   "cell_type": "code",
   "execution_count": 76,
   "id": "e2f1e466-25c2-47e4-a301-f82581bbdea5",
   "metadata": {},
   "outputs": [],
   "source": [
    "l=[1,2,4,6,8,8,4,3]"
   ]
  },
  {
   "cell_type": "code",
   "execution_count": 77,
   "id": "56ec4cbd-8009-483f-925e-abaca955bd79",
   "metadata": {},
   "outputs": [
    {
     "data": {
      "text/plain": [
       "1"
      ]
     },
     "execution_count": 77,
     "metadata": {},
     "output_type": "execute_result"
    }
   ],
   "source": [
    "l[0]"
   ]
  },
  {
   "cell_type": "code",
   "execution_count": 79,
   "id": "7293dad3-80d1-4cb1-890e-185899f97bd4",
   "metadata": {},
   "outputs": [],
   "source": [
    "l1=[]"
   ]
  },
  {
   "cell_type": "code",
   "execution_count": 84,
   "id": "c91336f3-8743-4750-862b-90fbdac9f6fe",
   "metadata": {},
   "outputs": [],
   "source": [
    "l1.append(l[4]+1)"
   ]
  },
  {
   "cell_type": "code",
   "execution_count": 85,
   "id": "477bc7b7-2a82-4890-b088-8f0f264910db",
   "metadata": {},
   "outputs": [
    {
     "data": {
      "text/plain": [
       "[2, 5, 9]"
      ]
     },
     "execution_count": 85,
     "metadata": {},
     "output_type": "execute_result"
    }
   ],
   "source": [
    "l1"
   ]
  },
  {
   "cell_type": "code",
   "execution_count": 87,
   "id": "ea487205-1ccc-4ae5-968c-6f3bc6ec6d22",
   "metadata": {},
   "outputs": [
    {
     "data": {
      "text/plain": [
       "[1, 2, 4, 6, 8, 8, 4, 3]"
      ]
     },
     "execution_count": 87,
     "metadata": {},
     "output_type": "execute_result"
    }
   ],
   "source": [
    "l"
   ]
  },
  {
   "cell_type": "code",
   "execution_count": 92,
   "id": "b3524ac8-5883-4431-b2f1-ae08888f6973",
   "metadata": {},
   "outputs": [
    {
     "name": "stdout",
     "output_type": "stream",
     "text": [
      "2\n",
      "3\n",
      "5\n",
      "7\n",
      "9\n",
      "9\n",
      "5\n",
      "4\n"
     ]
    },
    {
     "data": {
      "text/plain": [
       "[2, 3, 5, 7, 9, 9, 5, 4]"
      ]
     },
     "execution_count": 92,
     "metadata": {},
     "output_type": "execute_result"
    }
   ],
   "source": [
    "l1=[]\n",
    "for i in l:\n",
    "    print(i+1)\n",
    "    l1.append(i+1)\n",
    "l1"
   ]
  },
  {
   "cell_type": "code",
   "execution_count": 93,
   "id": "f93ba542-115c-4445-af99-46d34522e9c6",
   "metadata": {},
   "outputs": [
    {
     "data": {
      "text/plain": [
       "[1, 2, 4, 6, 8, 8, 4, 3]"
      ]
     },
     "execution_count": 93,
     "metadata": {},
     "output_type": "execute_result"
    }
   ],
   "source": [
    "l"
   ]
  },
  {
   "cell_type": "code",
   "execution_count": 94,
   "id": "83b3b906-6a19-4585-8d07-466be966160f",
   "metadata": {},
   "outputs": [
    {
     "data": {
      "text/plain": [
       "[2, 3, 5, 7, 9, 9, 5, 4]"
      ]
     },
     "execution_count": 94,
     "metadata": {},
     "output_type": "execute_result"
    }
   ],
   "source": [
    "l1"
   ]
  },
  {
   "cell_type": "code",
   "execution_count": 95,
   "id": "79abdfee-db88-4f73-8c1c-25359b89c42a",
   "metadata": {},
   "outputs": [],
   "source": [
    "k=[\"amit\",\"kumar\",\"data science\",\"course\"]"
   ]
  },
  {
   "cell_type": "code",
   "execution_count": 101,
   "id": "42b0bef6-d838-4212-a2c6-d0fba1655b06",
   "metadata": {},
   "outputs": [],
   "source": [
    "k1=[]"
   ]
  },
  {
   "cell_type": "code",
   "execution_count": 102,
   "id": "c80c347d-2ea6-44f3-a620-6c92e85b80a0",
   "metadata": {},
   "outputs": [
    {
     "name": "stdout",
     "output_type": "stream",
     "text": [
      "amit\n",
      "kumar\n",
      "data science\n",
      "course\n"
     ]
    }
   ],
   "source": [
    "for i in k:\n",
    "    print(i)\n",
    "    k1.append(i.upper())"
   ]
  },
  {
   "cell_type": "code",
   "execution_count": 103,
   "id": "f6ee5df6-7a80-4a95-bc5d-35bb8d6461c9",
   "metadata": {},
   "outputs": [
    {
     "data": {
      "text/plain": [
       "['AMIT', 'KUMAR', 'DATA SCIENCE', 'COURSE']"
      ]
     },
     "execution_count": 103,
     "metadata": {},
     "output_type": "execute_result"
    }
   ],
   "source": [
    "k1"
   ]
  },
  {
   "cell_type": "code",
   "execution_count": null,
   "id": "90234e97-de9c-4ed6-87d4-d81039e8ba87",
   "metadata": {},
   "outputs": [],
   "source": [
    "d=[1,2,8,6,55,\"amit\",\"kumar\",584,34.456,\"xyz\"]"
   ]
  },
  {
   "cell_type": "code",
   "execution_count": 1,
   "id": "bae291ab-2329-4427-bd00-28091526536d",
   "metadata": {},
   "outputs": [
    {
     "ename": "NameError",
     "evalue": "name 'd' is not defined",
     "output_type": "error",
     "traceback": [
      "\u001b[0;31m---------------------------------------------------------------------------\u001b[0m",
      "\u001b[0;31mNameError\u001b[0m                                 Traceback (most recent call last)",
      "Cell \u001b[0;32mIn [1], line 3\u001b[0m\n\u001b[1;32m      1\u001b[0m d1_num\u001b[38;5;241m=\u001b[39m[]\n\u001b[1;32m      2\u001b[0m d2_str\u001b[38;5;241m=\u001b[39m[]\n\u001b[0;32m----> 3\u001b[0m \u001b[38;5;28;01mfor\u001b[39;00m i \u001b[38;5;129;01min\u001b[39;00m \u001b[43md\u001b[49m:\n\u001b[1;32m      4\u001b[0m     \u001b[38;5;28;01mif\u001b[39;00m \u001b[38;5;28mtype\u001b[39m(i)\u001b[38;5;241m==\u001b[39m\u001b[38;5;28mint\u001b[39m \u001b[38;5;129;01mor\u001b[39;00m \u001b[38;5;28mtype\u001b[39m(i)\u001b[38;5;241m==\u001b[39m \u001b[38;5;28mfloat\u001b[39m:\n\u001b[1;32m      5\u001b[0m         d1_num\u001b[38;5;241m.\u001b[39mappend(i)\n",
      "\u001b[0;31mNameError\u001b[0m: name 'd' is not defined"
     ]
    }
   ],
   "source": [
    "d1_num=[]\n",
    "d2_str=[]\n",
    "for i in d:\n",
    "    if type(i)==int or type(i)== float:\n",
    "        d1_num.append(i)\n",
    "    else:\n",
    "        d2_str.append(i)"
   ]
  },
  {
   "cell_type": "code",
   "execution_count": null,
   "id": "43de023d-71c2-4bfe-8b91-89981f1d1311",
   "metadata": {},
   "outputs": [],
   "source": [
    "d1_num"
   ]
  },
  {
   "cell_type": "code",
   "execution_count": null,
   "id": "4c184ff6-064e-4986-8bd6-53a95b105163",
   "metadata": {},
   "outputs": [],
   "source": [
    "d2_str"
   ]
  },
  {
   "cell_type": "code",
   "execution_count": 3,
   "id": "74522cdd-f6ad-4741-87b7-e845679345fa",
   "metadata": {},
   "outputs": [],
   "source": [
    "PW=\"ASSIGNEMENT\""
   ]
  },
  {
   "cell_type": "code",
   "execution_count": 4,
   "id": "336bf8e5-429c-493a-abe5-e50e7bf47665",
   "metadata": {},
   "outputs": [
    {
     "data": {
      "text/plain": [
       "'ASSIGNEMENT'"
      ]
     },
     "execution_count": 4,
     "metadata": {},
     "output_type": "execute_result"
    }
   ],
   "source": [
    "PW"
   ]
  },
  {
   "cell_type": "code",
   "execution_count": 8,
   "id": "9b6ac401-c425-436f-a11f-3378584900a0",
   "metadata": {},
   "outputs": [],
   "source": [
    "Q1ans=\"Guido van Rossum\""
   ]
  },
  {
   "cell_type": "code",
   "execution_count": 9,
   "id": "102efe63-3042-4ce6-ab65-ee2e5defef5a",
   "metadata": {},
   "outputs": [],
   "source": [
    "Q2ans=\"object-oriented programming language\""
   ]
  },
  {
   "cell_type": "code",
   "execution_count": 10,
   "id": "8dd9bbe2-86e3-439f-8add-eb397cc13ec5",
   "metadata": {},
   "outputs": [],
   "source": [
    "Q3ans=\"Yes, Python is a case−sensitive programming language. This means that it considers uppercase and lowercase letters differently\""
   ]
  },
  {
   "cell_type": "code",
   "execution_count": null,
   "id": "3fc9512d-3f1e-4135-8cc5-0d3d550cf028",
   "metadata": {},
   "outputs": [],
   "source": [
    "Q4ans=\"pyc\""
   ]
  },
  {
   "cell_type": "code",
   "execution_count": null,
   "id": "e0e67299-74c9-4733-9521-d6a6eac3db5a",
   "metadata": {},
   "outputs": [],
   "source": [
    "Q5ans=\"interpreted language\""
   ]
  },
  {
   "cell_type": "code",
   "execution_count": null,
   "id": "8c141056-a4ac-442b-be37-ffdff8c02623",
   "metadata": {},
   "outputs": [],
   "source": [
    "Q6ans=\"a module, a function body, and a class definition\""
   ]
  },
  {
   "cell_type": "code",
   "execution_count": null,
   "id": "0fbcf2cd-2385-4384-97ef-5198e502f78d",
   "metadata": {},
   "outputs": [],
   "source": [
    "Q7ans=\"hash symbol, #,\""
   ]
  },
  {
   "cell_type": "code",
   "execution_count": null,
   "id": "698d60a3-cf42-44fd-9d99-27373cf738a4",
   "metadata": {},
   "outputs": [],
   "source": [
    "Q8ans=\"sys. version\""
   ]
  },
  {
   "cell_type": "code",
   "execution_count": null,
   "id": "c30f6175-3344-4b47-be50-a9107b68fd61",
   "metadata": {},
   "outputs": [],
   "source": [
    "Q9ans=\"lambda\""
   ]
  },
  {
   "cell_type": "code",
   "execution_count": null,
   "id": "3fcd3f87-044c-42f7-8af1-8ee8538054fa",
   "metadata": {},
   "outputs": [],
   "source": [
    "Q10ans=\"pip Install Packages\""
   ]
  },
  {
   "cell_type": "code",
   "execution_count": null,
   "id": "94393158-b130-4b47-896c-085dedefc28f",
   "metadata": {},
   "outputs": [],
   "source": [
    "Q11ans=\"compile()\""
   ]
  },
  {
   "cell_type": "code",
   "execution_count": null,
   "id": "0773690e-d3a1-43d8-ac99-4794a438ce41",
   "metadata": {},
   "outputs": [],
   "source": [
    "Q12ans=\"79 characters\""
   ]
  },
  {
   "cell_type": "code",
   "execution_count": null,
   "id": "1702f9f4-dd31-48d7-879e-71b824709277",
   "metadata": {},
   "outputs": [],
   "source": [
    "Q13ans=\"Earning Potential\",\"Ease of Comprehension,\"Flexibility\",\"Used in Many Industries\""
   ]
  },
  {
   "cell_type": "code",
   "execution_count": null,
   "id": "707aeef8-a6c3-4dd4-bbc1-25ef631355cf",
   "metadata": {},
   "outputs": [],
   "source": [
    "Q14ans=\"involves the management of a private heap\""
   ]
  },
  {
   "cell_type": "code",
   "execution_count": null,
   "id": "7af766eb-9664-4639-83b2-22e42e6f228a",
   "metadata": {},
   "outputs": [],
   "source": [
    "Q15ans=\"1.Right-clicking This PC and going to Properties\",\"2.Clicking on the Advanced system settings in the menu on the left\",\"3.Clicking on the Environment Variables button on the bottom right\",\"4.In the System variables section, selecting the Path variable and clicking on Edit\""
   ]
  },
  {
   "cell_type": "code",
   "execution_count": null,
   "id": "3bba4d34-140e-4627-8fdd-c989ae1eebfd",
   "metadata": {},
   "outputs": [],
   "source": [
    "Q16ans=\"indentation is important to Python\""
   ]
  },
  {
   "cell_type": "code",
   "execution_count": null,
   "id": "39d2f0b8-2522-471f-a509-e9ac79e894c2",
   "metadata": {},
   "outputs": [],
   "source": []
  }
 ],
 "metadata": {
  "kernelspec": {
   "display_name": "Python 3 (ipykernel)",
   "language": "python",
   "name": "python3"
  },
  "language_info": {
   "codemirror_mode": {
    "name": "ipython",
    "version": 3
   },
   "file_extension": ".py",
   "mimetype": "text/x-python",
   "name": "python",
   "nbconvert_exporter": "python",
   "pygments_lexer": "ipython3",
   "version": "3.10.6"
  }
 },
 "nbformat": 4,
 "nbformat_minor": 5
}
